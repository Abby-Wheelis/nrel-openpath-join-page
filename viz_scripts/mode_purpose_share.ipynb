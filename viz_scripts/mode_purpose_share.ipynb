{
 "cells": [
  {
   "cell_type": "markdown",
   "id": "prerequisite-norwegian",
   "metadata": {},
   "source": [
    "## Sample code to generate static graphs"
   ]
  },
  {
   "cell_type": "markdown",
   "id": "colored-frost",
   "metadata": {},
   "source": [
    "These are the input parameters for the notebook. They will be automatically changed when the scripts to generate monthly statistics are run. You can modify them manually to generate multiple plots locally as well.\n",
    "\n",
    "Pass in `None` to remove the filters and plot all data. This is not recommended for production settings, but might be useful for reports based on data snapshots."
   ]
  },
  {
   "cell_type": "code",
   "execution_count": null,
   "id": "automotive-abuse",
   "metadata": {},
   "outputs": [],
   "source": [
    "year = 2020\n",
    "month = 11\n",
    "program = \"prepilot\""
   ]
  },
  {
   "cell_type": "code",
   "execution_count": null,
   "id": "respiratory-gibraltar",
   "metadata": {},
   "outputs": [],
   "source": [
    "import scaffolding"
   ]
  },
  {
   "cell_type": "code",
   "execution_count": null,
   "id": "upset-transition",
   "metadata": {},
   "outputs": [],
   "source": [
    "import pandas as pd"
   ]
  },
  {
   "cell_type": "code",
   "execution_count": null,
   "id": "unauthorized-miami",
   "metadata": {},
   "outputs": [],
   "source": [
    "tq = scaffolding.get_time_query(year, month)"
   ]
  },
  {
   "cell_type": "code",
   "execution_count": null,
   "id": "authorized-living",
   "metadata": {},
   "outputs": [],
   "source": [
    "participant_ct_df = scaffolding.load_all_participant_trips(program, tq)"
   ]
  },
  {
   "cell_type": "code",
   "execution_count": null,
   "id": "checked-thumb",
   "metadata": {},
   "outputs": [],
   "source": [
    "labeled_ct = scaffolding.filter_labeled_trips(participant_ct_df)"
   ]
  },
  {
   "cell_type": "code",
   "execution_count": null,
   "id": "special-tragedy",
   "metadata": {},
   "outputs": [],
   "source": [
    "expanded_ct = scaffolding.expand_userinputs(labeled_ct)"
   ]
  },
  {
   "cell_type": "code",
   "execution_count": null,
   "id": "experimental-match",
   "metadata": {},
   "outputs": [],
   "source": [
    "mode_confirm_vals = expanded_ct.mode_confirm.value_counts()\n",
    "mode_confirm_vals"
   ]
  },
  {
   "cell_type": "code",
   "execution_count": null,
   "id": "norwegian-eight",
   "metadata": {},
   "outputs": [],
   "source": [
    "mode_confirm_vals_df = pd.DataFrame(mode_confirm_vals)\n",
    "mode_confirm_vals_df"
   ]
  },
  {
   "cell_type": "code",
   "execution_count": null,
   "id": "exterior-pulse",
   "metadata": {},
   "outputs": [],
   "source": [
    "total_mode_confirms = mode_confirm_vals.sum()\n",
    "top_ten_mode_confirm = mode_confirm_vals_df.iloc[0:9]\n",
    "top_ten_mode_confirm"
   ]
  },
  {
   "cell_type": "code",
   "execution_count": null,
   "id": "bound-reverse",
   "metadata": {},
   "outputs": [],
   "source": [
    "misc_count = (total_mode_confirms - top_ten_mode_confirm.mode_confirm.sum())\n",
    "misc_count"
   ]
  },
  {
   "cell_type": "code",
   "execution_count": null,
   "id": "contemporary-lancaster",
   "metadata": {},
   "outputs": [],
   "source": [
    "top_ten_mode_confirm.loc[\"misc\"] = misc_count"
   ]
  },
  {
   "cell_type": "code",
   "execution_count": null,
   "id": "black-shelter",
   "metadata": {},
   "outputs": [],
   "source": [
    "top_ten_mode_confirm"
   ]
  },
  {
   "cell_type": "code",
   "execution_count": null,
   "id": "controversial-dayton",
   "metadata": {},
   "outputs": [],
   "source": [
    "expanded_ct.user_id.unique()"
   ]
  },
  {
   "cell_type": "code",
   "execution_count": null,
   "id": "hairy-barcelona",
   "metadata": {},
   "outputs": [],
   "source": [
    "quality_text = scaffolding.get_quality_text(participant_ct_df, expanded_ct)"
   ]
  },
  {
   "cell_type": "code",
   "execution_count": null,
   "id": "genuine-nicaragua",
   "metadata": {},
   "outputs": [],
   "source": [
    "quality_text"
   ]
  },
  {
   "cell_type": "code",
   "execution_count": null,
   "id": "guilty-resource",
   "metadata": {},
   "outputs": [],
   "source": [
    "pctFmt = lambda p: '%.1f%%'%p if p > 5 else None"
   ]
  },
  {
   "cell_type": "code",
   "execution_count": null,
   "id": "electronic-culture",
   "metadata": {},
   "outputs": [],
   "source": [
    "ax = top_ten_mode_confirm.mode_confirm.plot.pie(autopct=pctFmt)\n",
    "ax.set_ylabel(\"\")\n",
    "ax.set_title(\"Travel modes selected by users\\n%s\" % quality_text)"
   ]
  },
  {
   "cell_type": "code",
   "execution_count": null,
   "id": "german-apollo",
   "metadata": {},
   "outputs": [],
   "source": [
    "file_suffix = scaffolding.get_file_suffix(year, month, program)"
   ]
  },
  {
   "cell_type": "code",
   "execution_count": null,
   "id": "tropical-pride",
   "metadata": {},
   "outputs": [],
   "source": [
    "ax.figure.savefig(\"/plots/mode_confirm_%s.png\" % file_suffix)"
   ]
  },
  {
   "cell_type": "code",
   "execution_count": null,
   "id": "promotional-trustee",
   "metadata": {},
   "outputs": [],
   "source": [
    "below_top_ten_mode_confirm = mode_confirm_vals_df.iloc[9:]\n",
    "below_top_ten_mode_confirm"
   ]
  },
  {
   "cell_type": "code",
   "execution_count": null,
   "id": "economic-galaxy",
   "metadata": {},
   "outputs": [],
   "source": [
    "ax = below_top_ten_mode_confirm.mode_confirm.plot.pie(autopct=pctFmt)\n",
    "ax.set_ylabel(\"\")\n",
    "ax.set_title(\"Expansion of the 'misc' travel modes\\n%s\" % quality_text)"
   ]
  },
  {
   "cell_type": "code",
   "execution_count": null,
   "id": "located-license",
   "metadata": {},
   "outputs": [],
   "source": [
    "ax.figure.savefig(\"/plots/mode_confirm_misc_expand_%s.png\" % file_suffix)"
   ]
  },
  {
   "cell_type": "code",
   "execution_count": null,
   "id": "material-discovery",
   "metadata": {},
   "outputs": [],
   "source": []
  }
 ],
 "metadata": {
  "kernelspec": {
   "display_name": "Python 3",
   "language": "python",
   "name": "python3"
  },
  "language_info": {
   "codemirror_mode": {
    "name": "ipython",
    "version": 3
   },
   "file_extension": ".py",
   "mimetype": "text/x-python",
   "name": "python",
   "nbconvert_exporter": "python",
   "pygments_lexer": "ipython3",
   "version": "3.7.9"
  }
 },
 "nbformat": 4,
 "nbformat_minor": 5
}
